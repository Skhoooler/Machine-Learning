{
  "nbformat": 4,
  "nbformat_minor": 0,
  "metadata": {
    "colab": {
      "provenance": [],
      "authorship_tag": "ABX9TyM2xPx4VfwqSRvke55Wg/OM"
    },
    "kernelspec": {
      "name": "python3",
      "display_name": "Python 3"
    },
    "language_info": {
      "name": "python"
    },
    "accelerator": "GPU",
    "gpuClass": "standard"
  },
  "cells": [
    {
      "cell_type": "markdown",
      "source": [
        "# Import Image Data"
      ],
      "metadata": {
        "id": "jIfI1POf7D25"
      }
    },
    {
      "cell_type": "code",
      "source": [
        "# Note: After you run this cell, the training and test data will be available in\n",
        "# the file browser. (Click the folder icon on the left to view it)\n",
        "#\n",
        "# If you don't see the data after the cell completes, click the refresh button\n",
        "# in the file browser (folder icon with circular arrow)\n",
        "\n",
        "# First, let's download and unzip the data\n",
        "!echo \"Downloading files...\"\n",
        "!wget -q https://github.com/byui-cse/cse450-course/raw/master/data/roadsigns/training1.zip\n",
        "!wget -q https://github.com/byui-cse/cse450-course/raw/master/data/roadsigns/training2.zip\n",
        "!wget -q https://github.com/byui-cse/cse450-course/raw/master/data/roadsigns/test.zip\n",
        "!wget -q https://github.com/byui-cse/cse450-course/raw/master/data/roadsigns/test_partial.zip\n",
        "!wget -q https://github.com/byui-cse/cse450-course/raw/master/data/roadsigns/test_classes_partial.csv\n",
        "\n",
        "!echo \"Unzipping files...\"\n",
        "!unzip -q /content/training1.zip\n",
        "!unzip -q /content/training2.zip\n",
        "!unzip -q /content/test.zip\n",
        "!unzip -q /content/test_partial.zip\n",
        "\n",
        "# Combine the two traning directories\n",
        "!echo \"Merging training data...\"\n",
        "!mkdir /content/training\n",
        "!mv /content/training1/* /content/training\n",
        "!mv /content/training2/* /content/training\n",
        "\n",
        "# Cleanup\n",
        "!echo \"Cleaning up...\"\n",
        "!rmdir /content/training1\n",
        "!rmdir /content/training2\n",
        "!rm training1.zip\n",
        "!rm training2.zip\n",
        "!rm test.zip\n",
        "!rm test_partial.zip\n",
        "\n",
        "!echo \"Data ready.\""
      ],
      "metadata": {
        "colab": {
          "base_uri": "https://localhost:8080/"
        },
        "id": "SPSwN1VW7DK8",
        "outputId": "0a27be46-3e71-4a50-ea22-a869acb4a167"
      },
      "execution_count": null,
      "outputs": [
        {
          "output_type": "stream",
          "name": "stdout",
          "text": [
            "Downloading files...\n",
            "Unzipping files...\n",
            "Merging training data...\n",
            "Cleaning up...\n",
            "Data ready.\n"
          ]
        }
      ]
    },
    {
      "cell_type": "code",
      "source": [
        "!pip install --upgrade coremltools"
      ],
      "metadata": {
        "colab": {
          "base_uri": "https://localhost:8080/"
        },
        "id": "m22hdwKhdy2C",
        "outputId": "1cf88690-9a2f-4410-cada-d29f7160f9e7"
      },
      "execution_count": null,
      "outputs": [
        {
          "output_type": "stream",
          "name": "stdout",
          "text": [
            "Looking in indexes: https://pypi.org/simple, https://us-python.pkg.dev/colab-wheels/public/simple/\n",
            "Collecting coremltools\n",
            "  Downloading coremltools-6.2-cp39-none-manylinux1_x86_64.whl (1.5 MB)\n",
            "\u001b[2K     \u001b[90m━━━━━━━━━━━━━━━━━━━━━━━━━━━━━━━━━━━━━━━━\u001b[0m \u001b[32m1.5/1.5 MB\u001b[0m \u001b[31m23.0 MB/s\u001b[0m eta \u001b[36m0:00:00\u001b[0m\n",
            "\u001b[?25hRequirement already satisfied: tqdm in /usr/local/lib/python3.9/dist-packages (from coremltools) (4.65.0)\n",
            "Requirement already satisfied: protobuf<=4.0.0,>=3.1.0 in /usr/local/lib/python3.9/dist-packages (from coremltools) (3.19.6)\n",
            "Requirement already satisfied: packaging in /usr/local/lib/python3.9/dist-packages (from coremltools) (23.0)\n",
            "Requirement already satisfied: numpy>=1.14.5 in /usr/local/lib/python3.9/dist-packages (from coremltools) (1.22.4)\n",
            "Requirement already satisfied: sympy in /usr/local/lib/python3.9/dist-packages (from coremltools) (1.7.1)\n",
            "Requirement already satisfied: mpmath>=0.19 in /usr/local/lib/python3.9/dist-packages (from sympy->coremltools) (1.3.0)\n",
            "Installing collected packages: coremltools\n",
            "Successfully installed coremltools-6.2\n"
          ]
        }
      ]
    },
    {
      "cell_type": "code",
      "execution_count": null,
      "metadata": {
        "id": "h9BH1TT41uNe",
        "colab": {
          "base_uri": "https://localhost:8080/"
        },
        "outputId": "f025ac61-0a9c-43ec-865c-e7ff721695ef"
      },
      "outputs": [
        {
          "output_type": "stream",
          "name": "stderr",
          "text": [
            "WARNING:coremltools:scikit-learn version 1.2.2 is not supported. Minimum required version: 0.17. Maximum required version: 1.1.2. Disabling scikit-learn conversion API.\n",
            "WARNING:coremltools:XGBoost version 1.7.4 has not been tested with coremltools. You may run into unexpected errors. XGBoost 1.4.2 is the most recent version that has been tested.\n",
            "WARNING:coremltools:TensorFlow version 2.11.0 has not been tested with coremltools. You may run into unexpected errors. TensorFlow 2.10.0 is the most recent version that has been tested.\n"
          ]
        }
      ],
      "source": [
        "# Import libraries\n",
        "import pandas as pd\n",
        "import tensorflow as tf\n",
        "import matplotlib.pyplot as plt\n",
        "import numpy as np\n",
        "import coremltools as ct\n",
        "\n",
        "from tensorflow import keras\n",
        "from keras.preprocessing.image import ImageDataGenerator\n",
        "from sklearn.metrics import confusion_matrix, ConfusionMatrixDisplay, classification_report"
      ]
    },
    {
      "cell_type": "markdown",
      "source": [
        "# Process Image Data\n",
        "\n",
        "Remember to export the model with Apple's MLKit"
      ],
      "metadata": {
        "id": "e60Mntnd4OOv"
      }
    },
    {
      "cell_type": "code",
      "source": [
        "# Set up the correct directories for getting data\n",
        "training_dir = '/content/training/'\n",
        "testing_dir = '/content/'\n",
        "image_size = (100, 100)\n",
        "\n",
        "# Create generators for the training and validation datasets\n",
        "training_datagen   = ImageDataGenerator(rescale=1./255, validation_split=.2)\n",
        "validation_datagen = ImageDataGenerator(rescale=1./255, validation_split=.2)\n",
        "testing_datagen    = ImageDataGenerator(rescale=1./255)\n",
        "\n",
        "train_generator = training_datagen.flow_from_directory(\n",
        "        training_dir,\n",
        "        target_size = image_size,\n",
        "        subset=\"training\",\n",
        "        batch_size=32,\n",
        "        class_mode='sparse',\n",
        "        seed=42,shuffle=True)\n",
        "\n",
        "validation_generator = validation_datagen.flow_from_directory(\n",
        "        training_dir,\n",
        "        target_size=image_size,\n",
        "        batch_size=32,\n",
        "        class_mode='sparse',\n",
        "        subset=\"validation\",\n",
        "        seed=42)\n",
        "\n",
        "test_generator = testing_datagen.flow_from_directory(\n",
        "    testing_dir,\n",
        "    classes = ['test'],\n",
        "    target_size = image_size,\n",
        "    class_mode = 'sparse',\n",
        "    shuffle = False)"
      ],
      "metadata": {
        "id": "nf5Ih3QX755p",
        "colab": {
          "base_uri": "https://localhost:8080/"
        },
        "outputId": "ea98610e-e23f-4432-b3c5-ada867bcc518"
      },
      "execution_count": null,
      "outputs": [
        {
          "output_type": "stream",
          "name": "stdout",
          "text": [
            "Found 31368 images belonging to 43 classes.\n",
            "Found 7841 images belonging to 43 classes.\n",
            "Found 12630 images belonging to 1 classes.\n"
          ]
        }
      ]
    },
    {
      "cell_type": "markdown",
      "source": [
        "# Train the model"
      ],
      "metadata": {
        "id": "yozsJmf8wX6V"
      }
    },
    {
      "cell_type": "code",
      "source": [
        "# Build the model shape\n",
        "model = keras.models.Sequential()\n",
        "\n",
        "# Convolutional Layers\n",
        "model.add(keras.layers.Conv2D(32, (3, 3), activation='relu', input_shape=(100, 100, 3)))\n",
        "model.add(keras.layers.Conv2D(64, (3, 3), activation='relu'))\n",
        "model.add(keras.layers.MaxPooling2D((2, 2)))\n",
        "model.add(keras.layers.Conv2D(256, (3, 3), activation='relu'))\n",
        "model.add(keras.layers.MaxPooling2D((2, 2))) # < --- Get rid if bad\n",
        "model.add(keras.layers.Conv2D(512, (3, 3), activation='relu')) # <--- Get rid if bad\n",
        "model.add(keras.layers.MaxPooling2D((2, 2)))\n",
        "model.add(keras.layers.Conv2D(128, (3, 3), activation='relu'))\n",
        "\n",
        "# Dense Layers\n",
        "model.add(keras.layers.Flatten())\n",
        "model.add(keras.layers.Dense(64, activation='relu'))\n",
        "#model.add(keras.layers.Dense(128, activation='relu'))\n",
        "model.add(keras.layers.Dense(43))\n",
        "\n",
        "model.summary()"
      ],
      "metadata": {
        "id": "XScwfL98wZ6W",
        "colab": {
          "base_uri": "https://localhost:8080/"
        },
        "outputId": "3e05dda9-1ee8-4d31-e350-b9a7a3dd5ae7"
      },
      "execution_count": null,
      "outputs": [
        {
          "output_type": "stream",
          "name": "stdout",
          "text": [
            "Model: \"sequential\"\n",
            "_________________________________________________________________\n",
            " Layer (type)                Output Shape              Param #   \n",
            "=================================================================\n",
            " conv2d (Conv2D)             (None, 98, 98, 32)        896       \n",
            "                                                                 \n",
            " conv2d_1 (Conv2D)           (None, 96, 96, 64)        18496     \n",
            "                                                                 \n",
            " max_pooling2d (MaxPooling2D  (None, 48, 48, 64)       0         \n",
            " )                                                               \n",
            "                                                                 \n",
            " conv2d_2 (Conv2D)           (None, 46, 46, 256)       147712    \n",
            "                                                                 \n",
            " max_pooling2d_1 (MaxPooling  (None, 23, 23, 256)      0         \n",
            " 2D)                                                             \n",
            "                                                                 \n",
            " conv2d_3 (Conv2D)           (None, 21, 21, 512)       1180160   \n",
            "                                                                 \n",
            " max_pooling2d_2 (MaxPooling  (None, 10, 10, 512)      0         \n",
            " 2D)                                                             \n",
            "                                                                 \n",
            " conv2d_4 (Conv2D)           (None, 8, 8, 128)         589952    \n",
            "                                                                 \n",
            " flatten (Flatten)           (None, 8192)              0         \n",
            "                                                                 \n",
            " dense (Dense)               (None, 64)                524352    \n",
            "                                                                 \n",
            " dense_1 (Dense)             (None, 43)                2795      \n",
            "                                                                 \n",
            "=================================================================\n",
            "Total params: 2,464,363\n",
            "Trainable params: 2,464,363\n",
            "Non-trainable params: 0\n",
            "_________________________________________________________________\n"
          ]
        }
      ]
    },
    {
      "cell_type": "code",
      "source": [
        "model.compile(optimizer='adam',\n",
        "              loss=tf.keras.losses.SparseCategoricalCrossentropy(from_logits=True),\n",
        "              metrics=['accuracy'])\n",
        "\n",
        "history = model.fit(train_generator, validation_data=validation_generator, epochs = 7)"
      ],
      "metadata": {
        "id": "0iTpoNnZyLwt",
        "colab": {
          "base_uri": "https://localhost:8080/"
        },
        "outputId": "fa11ab04-6927-4b0d-82d1-90c83ac50ea7"
      },
      "execution_count": null,
      "outputs": [
        {
          "output_type": "stream",
          "name": "stdout",
          "text": [
            "Epoch 1/7\n",
            "981/981 [==============================] - 60s 50ms/step - loss: 0.9923 - accuracy: 0.7230 - val_loss: 0.5548 - val_accuracy: 0.8517\n",
            "Epoch 2/7\n",
            "981/981 [==============================] - 50s 51ms/step - loss: 0.1004 - accuracy: 0.9719 - val_loss: 0.3367 - val_accuracy: 0.9221\n",
            "Epoch 3/7\n",
            "981/981 [==============================] - 53s 54ms/step - loss: 0.0514 - accuracy: 0.9862 - val_loss: 0.2811 - val_accuracy: 0.9348\n",
            "Epoch 4/7\n",
            "981/981 [==============================] - 50s 51ms/step - loss: 0.0363 - accuracy: 0.9894 - val_loss: 0.2671 - val_accuracy: 0.9365\n",
            "Epoch 5/7\n",
            "981/981 [==============================] - 50s 51ms/step - loss: 0.0444 - accuracy: 0.9878 - val_loss: 0.3129 - val_accuracy: 0.9279\n",
            "Epoch 6/7\n",
            "981/981 [==============================] - 50s 50ms/step - loss: 0.0229 - accuracy: 0.9929 - val_loss: 0.3380 - val_accuracy: 0.9431\n",
            "Epoch 7/7\n",
            "981/981 [==============================] - 50s 51ms/step - loss: 0.0242 - accuracy: 0.9925 - val_loss: 0.3853 - val_accuracy: 0.9282\n"
          ]
        }
      ]
    },
    {
      "cell_type": "markdown",
      "source": [
        "# Metrics"
      ],
      "metadata": {
        "id": "zThpfod5y6gh"
      }
    },
    {
      "cell_type": "code",
      "source": [
        "probabilities = model.predict(test_generator)\n",
        "test_predictions = [np.argmax(probas) for probas in probabilities]"
      ],
      "metadata": {
        "colab": {
          "base_uri": "https://localhost:8080/"
        },
        "id": "9gWbp339HWix",
        "outputId": "323e7bbc-1763-413f-81d8-81cc68a5d18e"
      },
      "execution_count": null,
      "outputs": [
        {
          "output_type": "stream",
          "name": "stdout",
          "text": [
            "395/395 [==============================] - 10s 26ms/step\n"
          ]
        }
      ]
    },
    {
      "cell_type": "code",
      "source": [
        "plt.plot(history.history['accuracy'], label='accuracy')\n",
        "plt.plot(history.history['val_accuracy'], label = 'val_accuracy')\n",
        "plt.xlabel('Epoch')\n",
        "plt.ylabel('Accuracy')\n",
        "plt.ylim([0.5, 1])\n",
        "plt.legend(loc='lower right')\n",
        "\n",
        "test_loss, test_acc = model.evaluate(test_generator, verbose=2)\n",
        "print(test_loss,test_acc)"
      ],
      "metadata": {
        "id": "bhbH7RB6zMpR",
        "colab": {
          "base_uri": "https://localhost:8080/",
          "height": 318
        },
        "outputId": "c135a144-0f94-4fc2-b804-aa5701bb300a"
      },
      "execution_count": null,
      "outputs": [
        {
          "output_type": "stream",
          "name": "stdout",
          "text": [
            "395/395 - 10s - loss: 45.0618 - accuracy: 0.0045 - 10s/epoch - 24ms/step\n",
            "45.061832427978516 0.004513063933700323\n"
          ]
        },
        {
          "output_type": "display_data",
          "data": {
            "text/plain": [
              "<Figure size 432x288 with 1 Axes>"
            ],
            "image/png": "[encoded data removed]"
          },
          "metadata": {
            "needs_background": "light"
          }
        }
      ]
    },
    {
      "cell_type": "code",
      "source": [
        "y_pred = pd.read_csv(\"test_classes_partial.csv\")\n",
        "y_pred = y_pred.drop(columns = 'Filename')\n",
        "\n",
        "cm = confusion_matrix(y_pred, test_predictions)\n",
        "cmd = ConfusionMatrixDisplay(cm)\n",
        "fig, ax = plt.subplots(figsize=(13, 13))\n",
        "cmd.plot(ax=ax, cmap = \"Blues\", values_format = '.5g')"
      ],
      "metadata": {
        "colab": {
          "base_uri": "https://localhost:8080/",
          "height": 765
        },
        "id": "cyugUahnIyYK",
        "outputId": "af27851d-27b6-4b1e-feec-42a4e148645a"
      },
      "execution_count": null,
      "outputs": [
        {
          "output_type": "execute_result",
          "data": {
            "text/plain": [
              "<sklearn.metrics._plot.confusion_matrix.ConfusionMatrixDisplay at 0x7f44382f8ee0>"
            ]
          },
          "metadata": {},
          "execution_count": 8
        },
        {
          "output_type": "display_data",
          "data": {
            "text/plain": [
              "<Figure size 936x936 with 2 Axes>"
            ],
            "image/png": "[encoded data removed]"
          },
          "metadata": {
            "needs_background": "light"
          }
        }
      ]
    },
    {
      "cell_type": "code",
      "source": [
        "# Save the model\n",
        "print(classification_report(y_pred, test_predictions))\n",
        "\n",
        "model.save('Model')"
      ],
      "metadata": {
        "colab": {
          "base_uri": "https://localhost:8080/",
          "height": 217
        },
        "id": "d2ijL2MFRlhw",
        "outputId": "d081926e-891e-4561-8ea4-280c08364d98"
      },
      "execution_count": null,
      "outputs": [
        {
          "output_type": "error",
          "ename": "NameError",
          "evalue": "ignored",
          "traceback": [
            "\u001b[0;31m---------------------------------------------------------------------------\u001b[0m",
            "\u001b[0;31mNameError\u001b[0m                                 Traceback (most recent call last)",
            "\u001b[0;32m<ipython-input-8-a97940c1538c>\u001b[0m in \u001b[0;36m<module>\u001b[0;34m\u001b[0m\n\u001b[1;32m      1\u001b[0m \u001b[0;31m# Save the model\u001b[0m\u001b[0;34m\u001b[0m\u001b[0;34m\u001b[0m\u001b[0m\n\u001b[0;32m----> 2\u001b[0;31m \u001b[0mprint\u001b[0m\u001b[0;34m(\u001b[0m\u001b[0mclassification_report\u001b[0m\u001b[0;34m(\u001b[0m\u001b[0my_pred\u001b[0m\u001b[0;34m,\u001b[0m \u001b[0mtest_predictions\u001b[0m\u001b[0;34m)\u001b[0m\u001b[0;34m)\u001b[0m\u001b[0;34m\u001b[0m\u001b[0;34m\u001b[0m\u001b[0m\n\u001b[0m\u001b[1;32m      3\u001b[0m \u001b[0;34m\u001b[0m\u001b[0m\n\u001b[1;32m      4\u001b[0m \u001b[0mmodel\u001b[0m\u001b[0;34m.\u001b[0m\u001b[0msave\u001b[0m\u001b[0;34m(\u001b[0m\u001b[0;34m'Model'\u001b[0m\u001b[0;34m)\u001b[0m\u001b[0;34m\u001b[0m\u001b[0;34m\u001b[0m\u001b[0m\n",
            "\u001b[0;31mNameError\u001b[0m: name 'y_pred' is not defined"
          ]
        }
      ]
    },
    {
      "cell_type": "code",
      "source": [
        "# Convert the model to an apple version\n",
        "apple_model = ct.convert(model)\n",
        "\n",
        "print(f'Previous: {type(model)}')\n",
        "print(f'New:      {type(apple_model)}')\n",
        "\n",
        "apple_model.save('Apple')"
      ],
      "metadata": {
        "colab": {
          "base_uri": "https://localhost:8080/"
        },
        "id": "GacsiRNvdlr6",
        "outputId": "cd9e49e9-6cce-46bb-d38b-62783df3af43"
      },
      "execution_count": null,
      "outputs": [
        {
          "output_type": "stream",
          "name": "stderr",
          "text": [
            "Running TensorFlow Graph Passes: 100%|██████████| 6/6 [00:00<00:00, 26.42 passes/s]\n",
            "Converting TF Frontend ==> MIL Ops: 100%|██████████| 41/41 [00:00<00:00, 562.99 ops/s]\n",
            "Running MIL Common passes: 100%|██████████| 40/40 [00:00<00:00, 514.82 passes/s]\n",
            "Running MIL Clean up passes: 100%|██████████| 11/11 [00:00<00:00, 340.84 passes/s]\n",
            "Translating MIL ==> NeuralNetwork Ops: 100%|██████████| 76/76 [00:00<00:00, 340.70 ops/s]\n"
          ]
        },
        {
          "output_type": "stream",
          "name": "stdout",
          "text": [
            "Previous: <class 'keras.engine.sequential.Sequential'>\n",
            "New:      <class 'coremltools.models.model.MLModel'>\n"
          ]
        }
      ]
    }
  ]
}